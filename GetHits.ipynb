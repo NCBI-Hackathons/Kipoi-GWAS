{
 "cells": [
  {
   "cell_type": "code",
   "execution_count": 190,
   "metadata": {},
   "outputs": [],
   "source": [
    "import pandas as pd\n",
    "import numpy as np\n",
    "import matplotlib.pyplot as plt\n",
    "%matplotlib inline\n",
    "from glob import glob\n",
    "from collections import OrderedDict\n",
    "\n",
    "ddir = \"data\"\n",
    "\n",
    "dgwas=pd.read_csv('/data/analysis/UKBB/raw/I10.gwas.imputed_v3.both_sexes.tsv',sep='\\t')\n",
    "phenotype=pd.read_csv('/data/analysis/UKBB/raw/phenotypes.both_sexes.tsv.gz',sep='\\t')"
   ]
  },
  {
   "cell_type": "code",
   "execution_count": 202,
   "metadata": {},
   "outputs": [],
   "source": [
    "#Use only high confident variant\n",
    "dgwas_sub = dgwas.loc[~dgwas['low_confidence_variant'],:]\n",
    "snp = pd.DataFrame(dgwas_sub.variant.str.split(':',0).tolist(),columns = ['chr','pos', 'ref', 'alt'])\n",
    "dgwas_sub_snp = pd.concat([snp, dgwas_sub.reset_index()], axis=1)\n"
   ]
  },
  {
   "cell_type": "code",
   "execution_count": 203,
   "metadata": {},
   "outputs": [],
   "source": [
    "#use snps in chr 1-22\n",
    "dgwas_sub_snp_chr = dgwas_sub_snp[dgwas_sub_snp['chr'].isin(list(map(lambda x: str(x), range(1,23))))]"
   ]
  },
  {
   "cell_type": "code",
   "execution_count": 204,
   "metadata": {},
   "outputs": [
    {
     "name": "stdout",
     "output_type": "stream",
     "text": [
      "['1' '2' '3' '4' '5' '6' '7' '8' '9' '10' '11' '12' '13' '14' '15' '16'\n",
      " '17' '18' '19' '20' '21' '22']\n",
      "  chr     pos ref alt  index        variant minor_allele  minor_AF  \\\n",
      "0   1  692794  CA   C      4  1:692794:CA:C            C  0.110640   \n",
      "1   1  693731   A   G      5   1:693731:A:G            G  0.115830   \n",
      "2   1  707522   G   C      6   1:707522:G:C            C  0.097303   \n",
      "3   1  717587   G   A      7   1:717587:G:A            A  0.015688   \n",
      "4   1  730087   T   C      9   1:730087:T:C            C  0.056460   \n",
      "\n",
      "   expected_case_minor_AC  low_confidence_variant  n_complete_samples  \\\n",
      "0                191.4070                   False              361194   \n",
      "1                200.3860                   False              361194   \n",
      "2                168.3350                   False              361194   \n",
      "3                 27.1403                   False              361194   \n",
      "4                 97.6761                   False              361194   \n",
      "\n",
      "        AC       ytx      beta        se     tstat      pval  \n",
      "0  79924.7  200.2000  0.000158  0.000202  0.782302  0.434037  \n",
      "1  83674.4  206.1610  0.000095  0.000191  0.499534  0.617404  \n",
      "2  70290.8  174.3530  0.000126  0.000215  0.588785  0.556006  \n",
      "3  11332.9   32.0549  0.000538  0.000513  1.049410  0.293991  \n",
      "4  40786.2  107.9730  0.000312  0.000266  1.173680  0.240525  \n"
     ]
    },
    {
     "name": "stderr",
     "output_type": "stream",
     "text": [
      "/data/env/anaconda3/lib/python3.7/site-packages/pandas/core/generic.py:4405: SettingWithCopyWarning: \n",
      "A value is trying to be set on a copy of a slice from a DataFrame.\n",
      "Try using .loc[row_indexer,col_indexer] = value instead\n",
      "\n",
      "See the caveats in the documentation: http://pandas.pydata.org/pandas-docs/stable/indexing.html#indexing-view-versus-copy\n",
      "  self[name] = value\n"
     ]
    }
   ],
   "source": [
    "print(dgwas_sub_snp_chr['chr'].unique())\n",
    "print(dgwas_sub_snp_chr.head())\n",
    "dgwas_sub_snp_chr.chr = dgwas_sub_snp_chr.chr.astype(int)\n",
    "dgwas_sub_snp_chr.pos = dgwas_sub_snp_chr.pos.astype(int)"
   ]
  },
  {
   "cell_type": "code",
   "execution_count": 206,
   "metadata": {},
   "outputs": [],
   "source": [
    "dgwas_min = dgwas_sub_snp_chr.nsmallest(100, 'pval')\n",
    "dgwas_min = dgwas_min.sort_values(['chr', 'pos'], ascending=[True, True])"
   ]
  },
  {
   "cell_type": "code",
   "execution_count": 209,
   "metadata": {},
   "outputs": [
    {
     "name": "stdout",
     "output_type": "stream",
     "text": [
      "odict_keys([3, 4, 6, 7, 8, 9, 10, 11, 12, 15, 17])\n"
     ]
    }
   ],
   "source": [
    "#select interesting regions\n",
    "snps = OrderedDict()\n",
    "for index, row in dgwas_min.iterrows():\n",
    "    chrs = row['chr']\n",
    "    pos = row['pos']\n",
    "    if chrs in snps:\n",
    "        if any(list(map(lambda x: x[0] <= pos <= x[1], snps[chrs]))):\n",
    "            continue\n",
    "        else:\n",
    "            snps[chrs].append((pos-1000000, pos+1000000))\n",
    "    else:\n",
    "        snps[chrs]= [(int(pos)-1000000, int(pos)+1000000)]\n"
   ]
  },
  {
   "cell_type": "code",
   "execution_count": 292,
   "metadata": {},
   "outputs": [
    {
     "name": "stdout",
     "output_type": "stream",
     "text": [
      "processing chr 3\n",
      "processing chr 4\n"
     ]
    },
    {
     "name": "stderr",
     "output_type": "stream",
     "text": [
      "/data/env/anaconda3/lib/python3.7/site-packages/ipykernel_launcher.py:9: SettingWithCopyWarning: \n",
      "A value is trying to be set on a copy of a slice from a DataFrame.\n",
      "Try using .loc[row_indexer,col_indexer] = value instead\n",
      "\n",
      "See the caveats in the documentation: http://pandas.pydata.org/pandas-docs/stable/indexing.html#indexing-view-versus-copy\n",
      "  if __name__ == '__main__':\n",
      "/data/env/anaconda3/lib/python3.7/site-packages/ipykernel_launcher.py:13: SettingWithCopyWarning: \n",
      "A value is trying to be set on a copy of a slice from a DataFrame.\n",
      "Try using .loc[row_indexer,col_indexer] = value instead\n",
      "\n",
      "See the caveats in the documentation: http://pandas.pydata.org/pandas-docs/stable/indexing.html#indexing-view-versus-copy\n",
      "  del sys.path[0]\n"
     ]
    },
    {
     "name": "stdout",
     "output_type": "stream",
     "text": [
      "processing chr 6\n",
      "processing chr 7\n",
      "processing chr 8\n",
      "processing chr 9\n",
      "processing chr 10\n",
      "processing chr 11\n",
      "processing chr 12\n",
      "processing chr 15\n",
      "processing chr 17\n"
     ]
    }
   ],
   "source": [
    "#get snps in the interesting regions\n",
    "n = 1\n",
    "for chrs in snps: \n",
    "    print(\"processing chr\",chrs)\n",
    "    for region in snps[chrs]:\n",
    "        if n == 1:\n",
    "            table = dgwas_sub_snp_chr.loc[(dgwas_sub_snp_chr[\"chr\"] == chrs) & ( dgwas_sub_snp_chr[\"pos\"] >= region[0]) & \n",
    "       (dgwas_sub_snp_chr[\"pos\"] <= region[1]), ]\n",
    "            table['SEGNUMBER'] = n\n",
    "        else:\n",
    "            temp = dgwas_sub_snp_chr.loc[(dgwas_sub_snp_chr[\"chr\"] == chrs) & ( dgwas_sub_snp_chr[\"pos\"] >= region[0]) & \n",
    "       (dgwas_sub_snp_chr[\"pos\"] <= region[1]), ]\n",
    "            temp['SEGNUMBER'] = n\n",
    "            table = table.append(temp)\n",
    "    n = n + 1"
   ]
  },
  {
   "cell_type": "code",
   "execution_count": 293,
   "metadata": {},
   "outputs": [
    {
     "name": "stdout",
     "output_type": "stream",
     "text": [
      "(107217, 19)\n"
     ]
    }
   ],
   "source": [
    "table['snp'] = table[\"chr\"].map(str) + \"_\" + table[\"pos\"].map(str)\n",
    "print(table.shape)"
   ]
  },
  {
   "cell_type": "code",
   "execution_count": 301,
   "metadata": {},
   "outputs": [],
   "source": [
    "indices = table.groupby('snp')['pval'].idxmin\n",
    "table_unique = table.loc[indices]"
   ]
  },
  {
   "cell_type": "code",
   "execution_count": 319,
   "metadata": {},
   "outputs": [
    {
     "data": {
      "text/html": [
       "<div>\n",
       "<style scoped>\n",
       "    .dataframe tbody tr th:only-of-type {\n",
       "        vertical-align: middle;\n",
       "    }\n",
       "\n",
       "    .dataframe tbody tr th {\n",
       "        vertical-align: top;\n",
       "    }\n",
       "\n",
       "    .dataframe thead th {\n",
       "        text-align: right;\n",
       "    }\n",
       "</style>\n",
       "<table border=\"1\" class=\"dataframe\">\n",
       "  <thead>\n",
       "    <tr style=\"text-align: right;\">\n",
       "      <th></th>\n",
       "      <th>chr</th>\n",
       "      <th>pos</th>\n",
       "      <th>ref</th>\n",
       "      <th>alt</th>\n",
       "      <th>index</th>\n",
       "      <th>variant</th>\n",
       "      <th>minor_allele</th>\n",
       "      <th>minor_AF</th>\n",
       "      <th>expected_case_minor_AC</th>\n",
       "      <th>low_confidence_variant</th>\n",
       "      <th>n_complete_samples</th>\n",
       "      <th>AC</th>\n",
       "      <th>ytx</th>\n",
       "      <th>beta</th>\n",
       "      <th>se</th>\n",
       "      <th>tstat</th>\n",
       "      <th>pval</th>\n",
       "      <th>SEGNUMBER</th>\n",
       "      <th>snp</th>\n",
       "    </tr>\n",
       "  </thead>\n",
       "  <tbody>\n",
       "    <tr>\n",
       "      <th>1874926</th>\n",
       "      <td>3</td>\n",
       "      <td>149461748</td>\n",
       "      <td>T</td>\n",
       "      <td>C</td>\n",
       "      <td>2900712</td>\n",
       "      <td>3:149461748:T:C</td>\n",
       "      <td>C</td>\n",
       "      <td>0.060348</td>\n",
       "      <td>104.4020</td>\n",
       "      <td>False</td>\n",
       "      <td>361194</td>\n",
       "      <td>43594.8</td>\n",
       "      <td>101.3690</td>\n",
       "      <td>-0.000055</td>\n",
       "      <td>0.000242</td>\n",
       "      <td>-0.225786</td>\n",
       "      <td>0.821368</td>\n",
       "      <td>1</td>\n",
       "      <td>3_149461748</td>\n",
       "    </tr>\n",
       "    <tr>\n",
       "      <th>1874927</th>\n",
       "      <td>3</td>\n",
       "      <td>149462893</td>\n",
       "      <td>T</td>\n",
       "      <td>G</td>\n",
       "      <td>2900713</td>\n",
       "      <td>3:149462893:T:G</td>\n",
       "      <td>G</td>\n",
       "      <td>0.488693</td>\n",
       "      <td>845.4390</td>\n",
       "      <td>False</td>\n",
       "      <td>361194</td>\n",
       "      <td>353026.0</td>\n",
       "      <td>857.9960</td>\n",
       "      <td>0.000078</td>\n",
       "      <td>0.000115</td>\n",
       "      <td>0.674998</td>\n",
       "      <td>0.499678</td>\n",
       "      <td>1</td>\n",
       "      <td>3_149462893</td>\n",
       "    </tr>\n",
       "    <tr>\n",
       "      <th>1874928</th>\n",
       "      <td>3</td>\n",
       "      <td>149463939</td>\n",
       "      <td>T</td>\n",
       "      <td>C</td>\n",
       "      <td>2900714</td>\n",
       "      <td>3:149463939:T:C</td>\n",
       "      <td>C</td>\n",
       "      <td>0.017110</td>\n",
       "      <td>29.6006</td>\n",
       "      <td>False</td>\n",
       "      <td>361194</td>\n",
       "      <td>12360.2</td>\n",
       "      <td>26.2549</td>\n",
       "      <td>-0.000318</td>\n",
       "      <td>0.000444</td>\n",
       "      <td>-0.717405</td>\n",
       "      <td>0.473125</td>\n",
       "      <td>1</td>\n",
       "      <td>3_149463939</td>\n",
       "    </tr>\n",
       "    <tr>\n",
       "      <th>1874929</th>\n",
       "      <td>3</td>\n",
       "      <td>149464402</td>\n",
       "      <td>CA</td>\n",
       "      <td>C</td>\n",
       "      <td>2900716</td>\n",
       "      <td>3:149464402:CA:C</td>\n",
       "      <td>C</td>\n",
       "      <td>0.494635</td>\n",
       "      <td>855.7190</td>\n",
       "      <td>False</td>\n",
       "      <td>361194</td>\n",
       "      <td>357319.0</td>\n",
       "      <td>879.1730</td>\n",
       "      <td>0.000142</td>\n",
       "      <td>0.000124</td>\n",
       "      <td>1.147810</td>\n",
       "      <td>0.251046</td>\n",
       "      <td>1</td>\n",
       "      <td>3_149464402</td>\n",
       "    </tr>\n",
       "    <tr>\n",
       "      <th>1874930</th>\n",
       "      <td>3</td>\n",
       "      <td>149464427</td>\n",
       "      <td>A</td>\n",
       "      <td>G</td>\n",
       "      <td>2900717</td>\n",
       "      <td>3:149464427:A:G</td>\n",
       "      <td>G</td>\n",
       "      <td>0.410530</td>\n",
       "      <td>710.2170</td>\n",
       "      <td>False</td>\n",
       "      <td>361194</td>\n",
       "      <td>296562.0</td>\n",
       "      <td>725.1490</td>\n",
       "      <td>0.000092</td>\n",
       "      <td>0.000117</td>\n",
       "      <td>0.785214</td>\n",
       "      <td>0.432329</td>\n",
       "      <td>1</td>\n",
       "      <td>3_149464427</td>\n",
       "    </tr>\n",
       "  </tbody>\n",
       "</table>\n",
       "</div>"
      ],
      "text/plain": [
       "         chr        pos ref alt    index           variant minor_allele  \\\n",
       "1874926    3  149461748   T   C  2900712   3:149461748:T:C            C   \n",
       "1874927    3  149462893   T   G  2900713   3:149462893:T:G            G   \n",
       "1874928    3  149463939   T   C  2900714   3:149463939:T:C            C   \n",
       "1874929    3  149464402  CA   C  2900716  3:149464402:CA:C            C   \n",
       "1874930    3  149464427   A   G  2900717   3:149464427:A:G            G   \n",
       "\n",
       "         minor_AF  expected_case_minor_AC  low_confidence_variant  \\\n",
       "1874926  0.060348                104.4020                   False   \n",
       "1874927  0.488693                845.4390                   False   \n",
       "1874928  0.017110                 29.6006                   False   \n",
       "1874929  0.494635                855.7190                   False   \n",
       "1874930  0.410530                710.2170                   False   \n",
       "\n",
       "         n_complete_samples        AC       ytx      beta        se     tstat  \\\n",
       "1874926              361194   43594.8  101.3690 -0.000055  0.000242 -0.225786   \n",
       "1874927              361194  353026.0  857.9960  0.000078  0.000115  0.674998   \n",
       "1874928              361194   12360.2   26.2549 -0.000318  0.000444 -0.717405   \n",
       "1874929              361194  357319.0  879.1730  0.000142  0.000124  1.147810   \n",
       "1874930              361194  296562.0  725.1490  0.000092  0.000117  0.785214   \n",
       "\n",
       "             pval  SEGNUMBER          snp  \n",
       "1874926  0.821368          1  3_149461748  \n",
       "1874927  0.499678          1  3_149462893  \n",
       "1874928  0.473125          1  3_149463939  \n",
       "1874929  0.251046          1  3_149464402  \n",
       "1874930  0.432329          1  3_149464427  "
      ]
     },
     "execution_count": 319,
     "metadata": {},
     "output_type": "execute_result"
    }
   ],
   "source": [
    "table_unique = table_unique.sort_values(['chr', 'pos'], ascending=[True, True])\n",
    "table_unique.head()"
   ]
  },
  {
   "cell_type": "code",
   "execution_count": 320,
   "metadata": {},
   "outputs": [],
   "source": [
    "res = table_unique[['variant', 'chr', 'pos', 'tstat', 'minor_AF', 'SEGNUMBER']]"
   ]
  },
  {
   "cell_type": "code",
   "execution_count": 321,
   "metadata": {},
   "outputs": [],
   "source": [
    "res = res.rename(columns={'variant': 'SNPID', 'chr': 'CHR', 'pos': 'POS',\n",
    "                   'tstat': 'Z', 'minor_AF': 'F'})"
   ]
  },
  {
   "cell_type": "code",
   "execution_count": 322,
   "metadata": {},
   "outputs": [],
   "source": [
    "res['NCONTROL'] = int(phenotype.loc[phenotype['phenotype']=='I10']['n_controls'])\n",
    "res['NCASE'] = int(phenotype.loc[phenotype['phenotype']=='I10']['n_cases'])"
   ]
  },
  {
   "cell_type": "code",
   "execution_count": 323,
   "metadata": {},
   "outputs": [],
   "source": [
    "res.to_csv('/data/analysis/UKBB/processed/I10.gwas.imputed_v3.both_sexes.finemapping.tsv.gz',\n",
    "           sep=' ',header=True, index=False, compression=\"gzip\")\n",
    "           "
   ]
  },
  {
   "cell_type": "code",
   "execution_count": 324,
   "metadata": {},
   "outputs": [],
   "source": [
    "res['pheno'] = np.around(np.random.uniform(0,1,res.shape[0]), decimals=3)"
   ]
  },
  {
   "cell_type": "code",
   "execution_count": 325,
   "metadata": {},
   "outputs": [],
   "source": [
    "res.to_csv('/data/analysis/UKBB/processed/I10.gwas.imputed_v3.both_sexes.finemapping.pheno.tsv.gz',\n",
    "           sep=' ',header=True, index=False, compression=\"gzip\")"
   ]
  }
 ],
 "metadata": {
  "kernelspec": {
   "display_name": "Python 3",
   "language": "python",
   "name": "python3"
  },
  "language_info": {
   "codemirror_mode": {
    "name": "ipython",
    "version": 3
   },
   "file_extension": ".py",
   "mimetype": "text/x-python",
   "name": "python",
   "nbconvert_exporter": "python",
   "pygments_lexer": "ipython3",
   "version": "3.7.0"
  }
 },
 "nbformat": 4,
 "nbformat_minor": 2
}
