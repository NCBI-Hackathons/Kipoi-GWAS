{
 "cells": [
  {
   "cell_type": "code",
   "execution_count": 64,
   "metadata": {},
   "outputs": [
    {
     "name": "stdout",
     "output_type": "stream",
     "text": [
      "/data/analysis/UKBB/raw/I10.gwas.imputed_v3.both_sexes.tsv\n"
     ]
    }
   ],
   "source": [
    "#only support for both sexes for now\n",
    "code = 'I10'\n",
    "pheno = '/data/analysis/UKBB/raw/' + code + '.gwas.imputed_v3.both_sexes.tsv'\n",
    "study = 'cc'\n",
    "print(pheno)"
   ]
  },
  {
   "cell_type": "code",
   "execution_count": 65,
   "metadata": {},
   "outputs": [],
   "source": [
    "import pandas as pd\n",
    "import numpy as np\n",
    "import matplotlib.pyplot as plt\n",
    "%matplotlib inline\n",
    "from collections import OrderedDict\n"
   ]
  },
  {
   "cell_type": "code",
   "execution_count": 66,
   "metadata": {},
   "outputs": [],
   "source": [
    "dgwas=pd.read_csv(pheno, sep='\\t')\n",
    "phenotype=pd.read_csv('/data/analysis/UKBB/raw/phenotypes.both_sexes.tsv.gz',sep='\\t')"
   ]
  },
  {
   "cell_type": "code",
   "execution_count": 67,
   "metadata": {},
   "outputs": [
    {
     "name": "stdout",
     "output_type": "stream",
     "text": [
      "most significant associations\n",
      "                   variant minor_allele  minor_AF  expected_case_minor_AC  \\\n",
      "4051199    4:182158091:C:T            T  0.018967                 32.8128   \n",
      "7832246   9:111786116:CA:C            C  0.045338                 78.4349   \n",
      "11849001   17:42894350:G:A            A  0.020471                 35.4149   \n",
      "6162668   7:51185016:AAT:A            A  0.073765                127.6130   \n",
      "11849018   17:42899199:T:G            G  0.020395                 35.2838   \n",
      "\n",
      "          low_confidence_variant  n_complete_samples       AC       ytx  \\\n",
      "4051199                    False              361194  13701.5   63.0039   \n",
      "7832246                    False              361194  32751.7  120.7410   \n",
      "11849001                   False              361194  14788.0   66.1647   \n",
      "6162668                    False              361194  53287.0  182.9100   \n",
      "11849018                   False              361194  14733.3   65.4784   \n",
      "\n",
      "              beta        se    tstat          pval  \n",
      "4051199   0.002451  0.000442  5.53961  3.033530e-08  \n",
      "7832246   0.001578  0.000300  5.25490  1.481890e-07  \n",
      "11849001  0.002128  0.000408  5.21401  1.849030e-07  \n",
      "6162668   0.001133  0.000220  5.14288  2.707040e-07  \n",
      "11849018  0.002097  0.000409  5.12771  2.934370e-07  \n"
     ]
    }
   ],
   "source": [
    "print('most significant associations')\n",
    "print(dgwas.query('~low_confidence_variant').sort_values(['pval'], ascending=[True]).head())"
   ]
  },
  {
   "cell_type": "code",
   "execution_count": 68,
   "metadata": {},
   "outputs": [],
   "source": [
    "#Use only high confident variant\n",
    "dgwas_sub = dgwas.loc[~dgwas['low_confidence_variant'],:]\n",
    "snp = pd.DataFrame(dgwas_sub.variant.str.split(':',0).tolist(),columns = ['chr','pos', 'ref', 'alt'])\n",
    "dgwas_sub_snp = pd.concat([snp, dgwas_sub.reset_index()], axis=1)"
   ]
  },
  {
   "cell_type": "code",
   "execution_count": 69,
   "metadata": {},
   "outputs": [],
   "source": [
    "#use snps in chr 1-22\n",
    "dgwas_sub_snp_chr = dgwas_sub_snp[dgwas_sub_snp['chr'].isin(list(map(lambda x: str(x), range(1,23))))]"
   ]
  },
  {
   "cell_type": "code",
   "execution_count": 70,
   "metadata": {},
   "outputs": [
    {
     "name": "stderr",
     "output_type": "stream",
     "text": [
      "/data/env/anaconda3/lib/python3.7/site-packages/pandas/core/generic.py:4405: SettingWithCopyWarning: \n",
      "A value is trying to be set on a copy of a slice from a DataFrame.\n",
      "Try using .loc[row_indexer,col_indexer] = value instead\n",
      "\n",
      "See the caveats in the documentation: http://pandas.pydata.org/pandas-docs/stable/indexing.html#indexing-view-versus-copy\n",
      "  self[name] = value\n"
     ]
    }
   ],
   "source": [
    "#convert chr/pos type to int\n",
    "dgwas_sub_snp_chr.chr = dgwas_sub_snp_chr.chr.astype(int)\n",
    "dgwas_sub_snp_chr.pos = dgwas_sub_snp_chr.pos.astype(int)"
   ]
  },
  {
   "cell_type": "code",
   "execution_count": 71,
   "metadata": {},
   "outputs": [],
   "source": [
    "#use the top 100 associations for fine mapping\n",
    "dgwas_min = dgwas_sub_snp_chr.nsmallest(100, 'pval')\n",
    "dgwas_min = dgwas_min.sort_values(['chr', 'pos'], ascending=[True, True])"
   ]
  },
  {
   "cell_type": "code",
   "execution_count": 72,
   "metadata": {},
   "outputs": [
    {
     "name": "stdout",
     "output_type": "stream",
     "text": [
      "regions to work with:\n",
      " OrderedDict([(3, [(149461568, 151461568)]), (4, [(98703052, 100703052), (181124566, 183124566)]), (6, [(10491250, 12491250)]), (7, [(10259278, 12259278), (50152099, 52152099)]), (8, [(35056701, 37056701)]), (9, [(89790312, 91790312), (110786116, 112786116)]), (10, [(71684850, 73684850)]), (11, [(108704645, 110704645), (115037160, 117037160)]), (12, [(81547495, 83547495)]), (15, [(36229967, 38229967)]), (17, [(41728733, 43728733), (68392323, 70392323)])])\n"
     ]
    }
   ],
   "source": [
    "#select interesting regions\n",
    "snps = OrderedDict()\n",
    "for index, row in dgwas_min.iterrows():\n",
    "    chrs = row['chr']\n",
    "    pos = row['pos']\n",
    "    if chrs in snps:\n",
    "        if any(list(map(lambda x: x[0] <= pos <= x[1], snps[chrs]))):\n",
    "            continue\n",
    "        else:\n",
    "            snps[chrs].append((pos-1000000, pos+1000000))\n",
    "    else:\n",
    "        snps[chrs]= [(int(pos)-1000000, int(pos)+1000000)]\n",
    "print(\"regions to work with:\\n\", snps)"
   ]
  },
  {
   "cell_type": "code",
   "execution_count": 73,
   "metadata": {},
   "outputs": [
    {
     "name": "stdout",
     "output_type": "stream",
     "text": [
      "processing chr 3\n",
      "processing chr 4\n",
      "processing chr 6\n"
     ]
    },
    {
     "name": "stderr",
     "output_type": "stream",
     "text": [
      "/data/env/anaconda3/lib/python3.7/site-packages/ipykernel_launcher.py:9: SettingWithCopyWarning: \n",
      "A value is trying to be set on a copy of a slice from a DataFrame.\n",
      "Try using .loc[row_indexer,col_indexer] = value instead\n",
      "\n",
      "See the caveats in the documentation: http://pandas.pydata.org/pandas-docs/stable/indexing.html#indexing-view-versus-copy\n",
      "  if __name__ == '__main__':\n",
      "/data/env/anaconda3/lib/python3.7/site-packages/ipykernel_launcher.py:13: SettingWithCopyWarning: \n",
      "A value is trying to be set on a copy of a slice from a DataFrame.\n",
      "Try using .loc[row_indexer,col_indexer] = value instead\n",
      "\n",
      "See the caveats in the documentation: http://pandas.pydata.org/pandas-docs/stable/indexing.html#indexing-view-versus-copy\n",
      "  del sys.path[0]\n"
     ]
    },
    {
     "name": "stdout",
     "output_type": "stream",
     "text": [
      "processing chr 7\n",
      "processing chr 8\n",
      "processing chr 9\n",
      "processing chr 10\n",
      "processing chr 11\n",
      "processing chr 12\n",
      "processing chr 15\n",
      "processing chr 17\n"
     ]
    }
   ],
   "source": [
    "#get snps in the interesting regions\n",
    "n = 1\n",
    "for chrs in snps: \n",
    "    print(\"processing chr\",chrs)\n",
    "    for region in snps[chrs]:\n",
    "        if n == 1:\n",
    "            table = dgwas_sub_snp_chr.loc[(dgwas_sub_snp_chr[\"chr\"] == chrs) & ( dgwas_sub_snp_chr[\"pos\"] >= region[0]) & \n",
    "       (dgwas_sub_snp_chr[\"pos\"] <= region[1]), ]\n",
    "            table['SEGNUMBER'] = n\n",
    "        else:\n",
    "            temp = dgwas_sub_snp_chr.loc[(dgwas_sub_snp_chr[\"chr\"] == chrs) & ( dgwas_sub_snp_chr[\"pos\"] >= region[0]) & \n",
    "       (dgwas_sub_snp_chr[\"pos\"] <= region[1]), ]\n",
    "            temp['SEGNUMBER'] = n\n",
    "            table = table.append(temp)\n",
    "    n = n + 1"
   ]
  },
  {
   "cell_type": "code",
   "execution_count": 74,
   "metadata": {},
   "outputs": [],
   "source": [
    "table['snp'] = table[\"chr\"].map(str) + \"_\" + table[\"pos\"].map(str)\n",
    "\n",
    "#if SNPs have the same position, choose the SNP with the smallest pvalue\n",
    "indices = table.groupby('snp')['pval'].idxmin\n",
    "table_unique = table.loc[indices]"
   ]
  },
  {
   "cell_type": "code",
   "execution_count": 75,
   "metadata": {},
   "outputs": [],
   "source": [
    "table_unique = table_unique.sort_values(['chr', 'pos'], ascending=[True, True])"
   ]
  },
  {
   "cell_type": "code",
   "execution_count": 76,
   "metadata": {},
   "outputs": [],
   "source": [
    "res = table_unique[['variant', 'chr', 'pos', 'tstat', 'minor_AF', 'SEGNUMBER', 'pval']]\n",
    "\n",
    "res = res.rename(columns={'variant': 'SNPID', 'chr': 'CHR', 'pos': 'POS',\n",
    "                   'tstat': 'Z', 'minor_AF': 'F'})"
   ]
  },
  {
   "cell_type": "code",
   "execution_count": 77,
   "metadata": {},
   "outputs": [],
   "source": [
    "if study == 'cc':\n",
    "    res['NCONTROL'] = int(phenotype.loc[phenotype['phenotype']==code]['n_controls'])\n",
    "    res['NCASE'] = int(phenotype.loc[phenotype['phenotype']==code]['n_cases'])\n",
    "else:\n",
    "    res['N'] = int(phenotype.loc[phenotype['phenotype']==code]['n_non_missing'])"
   ]
  },
  {
   "cell_type": "code",
   "execution_count": 78,
   "metadata": {},
   "outputs": [],
   "source": [
    "res.to_csv('/data/analysis/UKBB/processed/'+ code +'.gwas.imputed_v3.both_sexes.finemapping.tsv.gz',\n",
    "           sep=' ',header=True, index=False, compression=\"gzip\")"
   ]
  }
 ],
 "metadata": {
  "kernelspec": {
   "display_name": "Python 3",
   "language": "python",
   "name": "python3"
  },
  "language_info": {
   "codemirror_mode": {
    "name": "ipython",
    "version": 3
   },
   "file_extension": ".py",
   "mimetype": "text/x-python",
   "name": "python",
   "nbconvert_exporter": "python",
   "pygments_lexer": "ipython3",
   "version": "3.7.0"
  }
 },
 "nbformat": 4,
 "nbformat_minor": 2
}
