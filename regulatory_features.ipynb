{
 "cells": [
  {
   "cell_type": "code",
   "execution_count": null,
   "metadata": {},
   "outputs": [],
   "source": [
    "%%bash\n",
    "tree data"
   ]
  },
  {
   "cell_type": "code",
   "execution_count": 5,
   "metadata": {},
   "outputs": [],
   "source": [
    "import pandas as pd\n",
    "import numpy as np\n",
    "import matplotlib.pyplot as plt\n",
    "%matplotlib inline\n",
    "from glob import glob"
   ]
  },
  {
   "cell_type": "code",
   "execution_count": 6,
   "metadata": {},
   "outputs": [],
   "source": [
    "ddir = \"data\""
   ]
  },
  {
   "cell_type": "code",
   "execution_count": null,
   "metadata": {},
   "outputs": [],
   "source": [
    "# release 75\n",
    "# dAnnotatedFeatures=pd.read_csv(f'{ddir}/ensembl/raw/ftp.ensembl.org/pub/release-75/regulation/homo_sapiens/AnnotatedFeatures.gff.gz',\n",
    "#                                names=['chromosome', 'source', 'type', 'start', 'end', 'score', 'strand', 'phase', 'attributes'],\n",
    "#                                 sep='\\t')"
   ]
  },
  {
   "cell_type": "markdown",
   "metadata": {},
   "source": [
    "## GWAS table flitering"
   ]
  },
  {
   "cell_type": "code",
   "execution_count": 28,
   "metadata": {},
   "outputs": [],
   "source": [
    "dgwas_subset=pd.read_csv('/data/analysis/UKBB/raw/I10.gwas.imputed_v3.both_sexes.tsv',sep='\\t',)\n",
    "# dgwas=pd.read_csv('/data/analysis/UKBB/raw/variants.tsv',sep='\\t')"
   ]
  },
  {
   "cell_type": "code",
   "execution_count": 19,
   "metadata": {},
   "outputs": [
    {
     "name": "stdout",
     "output_type": "stream",
     "text": [
      "(13791467, 12)\n"
     ]
    }
   ],
   "source": [
    "print(dgwas_subset.shape)"
   ]
  },
  {
   "cell_type": "code",
   "execution_count": 32,
   "metadata": {},
   "outputs": [
    {
     "name": "stdout",
     "output_type": "stream",
     "text": [
      "(9058943, 12)\n"
     ]
    }
   ],
   "source": [
    "dgwas_subset_flt=dgwas_subset.loc[~dgwas_subset['low_confidence_variant'],:]\n",
    "print(dgwas_subset_flt.shape)"
   ]
  },
  {
   "cell_type": "code",
   "execution_count": 33,
   "metadata": {},
   "outputs": [
    {
     "data": {
      "image/png": "[encoded data removed]",
      "text/plain": [
       "<Figure size 432x288 with 1 Axes>"
      ]
     },
     "metadata": {
      "needs_background": "light"
     },
     "output_type": "display_data"
    }
   ],
   "source": [
    "# dgwas_subset.loc[]\n",
    "_=dgwas_subset_flt['pval'].apply(np.log10).hist()"
   ]
  },
  {
   "cell_type": "code",
   "execution_count": 35,
   "metadata": {
    "scrolled": true
   },
   "outputs": [
    {
     "data": {
      "text/plain": [
       "96358"
      ]
     },
     "execution_count": 35,
     "metadata": {},
     "output_type": "execute_result"
    }
   ],
   "source": [
    "sum(dgwas_subset_flt['pval']<1e-02)"
   ]
  },
  {
   "cell_type": "code",
   "execution_count": 30,
   "metadata": {},
   "outputs": [
    {
     "data": {
      "text/plain": [
       "1.9724299999999996e-103"
      ]
     },
     "execution_count": 30,
     "metadata": {},
     "output_type": "execute_result"
    }
   ],
   "source": [
    "dgwas_subset['pval'].min()"
   ]
  },
  {
   "cell_type": "code",
   "execution_count": 27,
   "metadata": {},
   "outputs": [
    {
     "data": {
      "text/html": [
       "<div>\n",
       "<style scoped>\n",
       "    .dataframe tbody tr th:only-of-type {\n",
       "        vertical-align: middle;\n",
       "    }\n",
       "\n",
       "    .dataframe tbody tr th {\n",
       "        vertical-align: top;\n",
       "    }\n",
       "\n",
       "    .dataframe thead th {\n",
       "        text-align: right;\n",
       "    }\n",
       "</style>\n",
       "<table border=\"1\" class=\"dataframe\">\n",
       "  <thead>\n",
       "    <tr style=\"text-align: right;\">\n",
       "      <th></th>\n",
       "      <th>variant</th>\n",
       "      <th>minor_allele</th>\n",
       "      <th>minor_AF</th>\n",
       "      <th>expected_case_minor_AC</th>\n",
       "      <th>low_confidence_variant</th>\n",
       "      <th>n_complete_samples</th>\n",
       "      <th>AC</th>\n",
       "      <th>ytx</th>\n",
       "      <th>beta</th>\n",
       "      <th>se</th>\n",
       "      <th>tstat</th>\n",
       "      <th>pval</th>\n",
       "    </tr>\n",
       "  </thead>\n",
       "  <tbody>\n",
       "    <tr>\n",
       "      <th>4</th>\n",
       "      <td>1:692794:CA:C</td>\n",
       "      <td>C</td>\n",
       "      <td>0.110640</td>\n",
       "      <td>191.4070</td>\n",
       "      <td>False</td>\n",
       "      <td>361194</td>\n",
       "      <td>79924.7</td>\n",
       "      <td>200.2000</td>\n",
       "      <td>0.000158</td>\n",
       "      <td>0.000202</td>\n",
       "      <td>0.782302</td>\n",
       "      <td>0.434037</td>\n",
       "    </tr>\n",
       "    <tr>\n",
       "      <th>5</th>\n",
       "      <td>1:693731:A:G</td>\n",
       "      <td>G</td>\n",
       "      <td>0.115830</td>\n",
       "      <td>200.3860</td>\n",
       "      <td>False</td>\n",
       "      <td>361194</td>\n",
       "      <td>83674.4</td>\n",
       "      <td>206.1610</td>\n",
       "      <td>0.000095</td>\n",
       "      <td>0.000191</td>\n",
       "      <td>0.499534</td>\n",
       "      <td>0.617404</td>\n",
       "    </tr>\n",
       "    <tr>\n",
       "      <th>6</th>\n",
       "      <td>1:707522:G:C</td>\n",
       "      <td>C</td>\n",
       "      <td>0.097303</td>\n",
       "      <td>168.3350</td>\n",
       "      <td>False</td>\n",
       "      <td>361194</td>\n",
       "      <td>70290.8</td>\n",
       "      <td>174.3530</td>\n",
       "      <td>0.000126</td>\n",
       "      <td>0.000215</td>\n",
       "      <td>0.588785</td>\n",
       "      <td>0.556006</td>\n",
       "    </tr>\n",
       "    <tr>\n",
       "      <th>7</th>\n",
       "      <td>1:717587:G:A</td>\n",
       "      <td>A</td>\n",
       "      <td>0.015688</td>\n",
       "      <td>27.1403</td>\n",
       "      <td>False</td>\n",
       "      <td>361194</td>\n",
       "      <td>11332.9</td>\n",
       "      <td>32.0549</td>\n",
       "      <td>0.000538</td>\n",
       "      <td>0.000513</td>\n",
       "      <td>1.049410</td>\n",
       "      <td>0.293991</td>\n",
       "    </tr>\n",
       "    <tr>\n",
       "      <th>9</th>\n",
       "      <td>1:730087:T:C</td>\n",
       "      <td>C</td>\n",
       "      <td>0.056460</td>\n",
       "      <td>97.6761</td>\n",
       "      <td>False</td>\n",
       "      <td>361194</td>\n",
       "      <td>40786.2</td>\n",
       "      <td>107.9730</td>\n",
       "      <td>0.000312</td>\n",
       "      <td>0.000266</td>\n",
       "      <td>1.173680</td>\n",
       "      <td>0.240525</td>\n",
       "    </tr>\n",
       "  </tbody>\n",
       "</table>\n",
       "</div>"
      ],
      "text/plain": [
       "         variant minor_allele  minor_AF  expected_case_minor_AC  \\\n",
       "4  1:692794:CA:C            C  0.110640                191.4070   \n",
       "5   1:693731:A:G            G  0.115830                200.3860   \n",
       "6   1:707522:G:C            C  0.097303                168.3350   \n",
       "7   1:717587:G:A            A  0.015688                 27.1403   \n",
       "9   1:730087:T:C            C  0.056460                 97.6761   \n",
       "\n",
       "   low_confidence_variant  n_complete_samples       AC       ytx      beta  \\\n",
       "4                   False              361194  79924.7  200.2000  0.000158   \n",
       "5                   False              361194  83674.4  206.1610  0.000095   \n",
       "6                   False              361194  70290.8  174.3530  0.000126   \n",
       "7                   False              361194  11332.9   32.0549  0.000538   \n",
       "9                   False              361194  40786.2  107.9730  0.000312   \n",
       "\n",
       "         se     tstat      pval  \n",
       "4  0.000202  0.782302  0.434037  \n",
       "5  0.000191  0.499534  0.617404  \n",
       "6  0.000215  0.588785  0.556006  \n",
       "7  0.000513  1.049410  0.293991  \n",
       "9  0.000266  1.173680  0.240525  "
      ]
     },
     "execution_count": 27,
     "metadata": {},
     "output_type": "execute_result"
    }
   ],
   "source": [
    "dgwas_subset.head()"
   ]
  },
  {
   "cell_type": "markdown",
   "metadata": {},
   "source": [
    "## Combining regulatory features"
   ]
  },
  {
   "cell_type": "code",
   "execution_count": 46,
   "metadata": {},
   "outputs": [],
   "source": [
    "import glob\n",
    "from os.path import exists,dirname,basename"
   ]
  },
  {
   "cell_type": "code",
   "execution_count": 54,
   "metadata": {},
   "outputs": [
    {
     "name": "stdout",
     "output_type": "stream",
     "text": [
      "(280027, 10)\n",
      "(560054, 10)\n",
      "(840081, 10)\n",
      "(1120108, 10)\n",
      "(1400135, 10)\n",
      "(1680162, 10)\n",
      "(1960189, 10)\n",
      "(2240216, 10)\n",
      "(2520243, 10)\n",
      "(2800270, 10)\n",
      "(3080297, 10)\n",
      "(3360324, 10)\n",
      "(3640351, 10)\n",
      "(3920378, 10)\n",
      "(4200405, 10)\n",
      "(4480432, 10)\n",
      "(4760459, 10)\n",
      "(5040486, 10)\n",
      "(5320513, 10)\n",
      "(5600540, 10)\n",
      "(5880567, 10)\n",
      "(6160594, 10)\n",
      "(6440621, 10)\n",
      "(6720648, 10)\n",
      "(7000675, 10)\n",
      "(7280702, 10)\n",
      "(7560729, 10)\n",
      "(7840756, 10)\n",
      "(8120783, 10)\n",
      "(8400810, 10)\n",
      "(8680837, 10)\n",
      "(8960864, 10)\n",
      "(9240891, 10)\n",
      "(9520918, 10)\n",
      "(9800945, 10)\n",
      "(10080972, 10)\n",
      "(10360999, 10)\n",
      "(10641026, 10)\n",
      "(10921053, 10)\n",
      "(11201080, 10)\n",
      "(11481107, 10)\n",
      "(11761134, 10)\n",
      "(12041161, 10)\n",
      "(12321188, 10)\n",
      "(12601215, 10)\n",
      "(12881242, 10)\n",
      "(13161269, 10)\n",
      "(13441296, 10)\n",
      "(13721323, 10)\n",
      "(14001350, 10)\n",
      "(14281377, 10)\n",
      "(14561404, 10)\n",
      "(14841431, 10)\n",
      "(15121458, 10)\n",
      "(15401485, 10)\n",
      "(15681512, 10)\n",
      "(15961539, 10)\n",
      "(16241566, 10)\n",
      "(16521593, 10)\n",
      "(16801620, 10)\n",
      "(17081647, 10)\n",
      "(17361674, 10)\n",
      "(17641701, 10)\n",
      "(17921728, 10)\n",
      "(18201755, 10)\n",
      "(18481782, 10)\n",
      "(18761809, 10)\n",
      "(19041836, 10)\n"
     ]
    }
   ],
   "source": [
    "i=0\n",
    "for gffp in glob.iglob(f'{ddir}/ensembl/raw/ftp.ensembl.org/pub/grch37/update/regulation/homo_sapiens/RegulatoryFeatureActivity/*/homo_sapiens*.gff.gz'):\n",
    "    dgff_regulation=pd.read_table(f'{ddir}/ensembl/raw/ftp.ensembl.org/pub/grch37/update/regulation/homo_sapiens/RegulatoryFeatureActivity/A549/homo_sapiens.GRCh37.A549.Regulatory_Build.regulatory_activity.20161117.gff.gz',\n",
    "                             names=['chromosome', 'source', 'type', 'start', 'end', 'score', 'strand', 'phase', 'attributes'])\n",
    "    dgff_regulation['tissue type']=basename(dirname(gffp))\n",
    "    if i==0:\n",
    "        dgff_regulation_combo=dgff_regulation.copy()\n",
    "    else:\n",
    "        dgff_regulation_combo=dgff_regulation_combo.append(dgff_regulation)\n",
    "    del dgff_regulation\n",
    "    print(dgff_regulation_combo.shape)\n",
    "    i+=1\n",
    "#     break"
   ]
  },
  {
   "cell_type": "code",
   "execution_count": 55,
   "metadata": {},
   "outputs": [],
   "source": [
    "dgff_regulation_combo['regulatory_feature_stable_id']=dgff_regulation_combo['attributes'].apply(lambda x : [s.replace('regulatory_feature_stable_id=','') for s in x.split(';') if 'regulatory_feature_stable_id=' in s][0])"
   ]
  },
  {
   "cell_type": "code",
   "execution_count": 61,
   "metadata": {},
   "outputs": [],
   "source": [
    "# dgff_regulation_combo.to_csv(f'{ddir}/ensembl/raw/dgff_regulation_combo.tsv',sep='\\t')"
   ]
  },
  {
   "cell_type": "code",
   "execution_count": 62,
   "metadata": {},
   "outputs": [
    {
     "data": {
      "text/plain": [
       "'data/ensembl/raw/dgff_regulation_combo.tsv'"
      ]
     },
     "execution_count": 62,
     "metadata": {},
     "output_type": "execute_result"
    }
   ],
   "source": [
    "f'{ddir}/ensembl/raw/dgff_regulation_combo.tsv'"
   ]
  },
  {
   "cell_type": "code",
   "execution_count": 63,
   "metadata": {},
   "outputs": [
    {
     "name": "stdout",
     "output_type": "stream",
     "text": [
      "-rw-r--r-- 1 yizhenzhong cshl-hackathon 5540835004 Nov 11 02:15 data/ensembl/raw/dgff_regulation_combo.tsv\r\n"
     ]
    }
   ],
   "source": [
    "%ls -ltr data/ensembl/raw/dgff_regulation_combo.tsv"
   ]
  },
  {
   "cell_type": "code",
   "execution_count": 75,
   "metadata": {},
   "outputs": [],
   "source": [
    "# to_table_pqt(dgff_regulation_combo.head(),'test.pqt')\n",
    "#f'{ddir}/ensembl/raw/dgff_regulation_combo.pqt'\n",
    "dgff_regulation_combo.loc[:,['chromosome',\n",
    " 'source',\n",
    " 'type',\n",
    " 'start',\n",
    " 'end',\n",
    " 'score',\n",
    " 'strand',\n",
    " 'phase',\n",
    "#  'attributes',\n",
    " 'tissue type',\n",
    " 'regulatory_feature_stable_id']].to_parquet('dgff_regulation_combo.pqt',engine='fastparquet',compression='gzip',)"
   ]
  },
  {
   "cell_type": "code",
   "execution_count": 77,
   "metadata": {},
   "outputs": [
    {
     "data": {
      "text/plain": [
       "open_chromatin_region       7489044\n",
       "CTCF_binding_site           3892932\n",
       "promoter_flanking_region    3164176\n",
       "enhancer                    1920252\n",
       "TF_binding_site             1566312\n",
       "promoter                    1009120\n",
       "Name: type, dtype: int64"
      ]
     },
     "execution_count": 77,
     "metadata": {},
     "output_type": "execute_result"
    }
   ],
   "source": [
    "dgff_regulation_combo[\"type\"].value_counts()"
   ]
  },
  {
   "cell_type": "code",
   "execution_count": 80,
   "metadata": {},
   "outputs": [
    {
     "data": {
      "text/plain": [
       "249240728"
      ]
     },
     "execution_count": 80,
     "metadata": {},
     "output_type": "execute_result"
    }
   ],
   "source": [
    "dgff_regulation_combo[\"end\"].max()"
   ]
  },
  {
   "cell_type": "code",
   "execution_count": null,
   "metadata": {},
   "outputs": [],
   "source": [
    "# dgff_regulation_combo.loc[:,\"att\"]"
   ]
  },
  {
   "cell_type": "code",
   "execution_count": null,
   "metadata": {},
   "outputs": [],
   "source": []
  },
  {
   "cell_type": "code",
   "execution_count": 76,
   "metadata": {},
   "outputs": [
    {
     "data": {
      "text/html": [
       "<div>\n",
       "<style scoped>\n",
       "    .dataframe tbody tr th:only-of-type {\n",
       "        vertical-align: middle;\n",
       "    }\n",
       "\n",
       "    .dataframe tbody tr th {\n",
       "        vertical-align: top;\n",
       "    }\n",
       "\n",
       "    .dataframe thead th {\n",
       "        text-align: right;\n",
       "    }\n",
       "</style>\n",
       "<table border=\"1\" class=\"dataframe\">\n",
       "  <thead>\n",
       "    <tr style=\"text-align: right;\">\n",
       "      <th></th>\n",
       "      <th>chromosome</th>\n",
       "      <th>source</th>\n",
       "      <th>type</th>\n",
       "      <th>start</th>\n",
       "      <th>end</th>\n",
       "      <th>score</th>\n",
       "      <th>strand</th>\n",
       "      <th>phase</th>\n",
       "      <th>attributes</th>\n",
       "      <th>tissue type</th>\n",
       "      <th>regulatory_feature_stable_id</th>\n",
       "    </tr>\n",
       "  </thead>\n",
       "  <tbody>\n",
       "    <tr>\n",
       "      <th>0</th>\n",
       "      <td>15</td>\n",
       "      <td>Regulatory_Build</td>\n",
       "      <td>TF_binding_site</td>\n",
       "      <td>102118789</td>\n",
       "      <td>102119129</td>\n",
       "      <td>.</td>\n",
       "      <td>.</td>\n",
       "      <td>.</td>\n",
       "      <td>activity=INACTIVE;bound_end=102119230;bound_st...</td>\n",
       "      <td>H1_trophoblast</td>\n",
       "      <td>ENSR00000368862</td>\n",
       "    </tr>\n",
       "    <tr>\n",
       "      <th>1</th>\n",
       "      <td>7</td>\n",
       "      <td>Regulatory_Build</td>\n",
       "      <td>TF_binding_site</td>\n",
       "      <td>1619070</td>\n",
       "      <td>1619637</td>\n",
       "      <td>.</td>\n",
       "      <td>.</td>\n",
       "      <td>.</td>\n",
       "      <td>activity=INACTIVE;bound_end=1619683;bound_star...</td>\n",
       "      <td>H1_trophoblast</td>\n",
       "      <td>ENSR00000408425</td>\n",
       "    </tr>\n",
       "    <tr>\n",
       "      <th>2</th>\n",
       "      <td>22</td>\n",
       "      <td>Regulatory_Build</td>\n",
       "      <td>open_chromatin_region</td>\n",
       "      <td>34001171</td>\n",
       "      <td>34001716</td>\n",
       "      <td>.</td>\n",
       "      <td>.</td>\n",
       "      <td>.</td>\n",
       "      <td>activity=INACTIVE;bound_end=34001716;bound_sta...</td>\n",
       "      <td>H1_trophoblast</td>\n",
       "      <td>ENSR00000196038</td>\n",
       "    </tr>\n",
       "    <tr>\n",
       "      <th>3</th>\n",
       "      <td>19</td>\n",
       "      <td>Regulatory_Build</td>\n",
       "      <td>CTCF_binding_site</td>\n",
       "      <td>31805801</td>\n",
       "      <td>31806200</td>\n",
       "      <td>.</td>\n",
       "      <td>.</td>\n",
       "      <td>.</td>\n",
       "      <td>activity=REPRESSED;bound_end=31806200;bound_st...</td>\n",
       "      <td>H1_trophoblast</td>\n",
       "      <td>ENSR00000145779</td>\n",
       "    </tr>\n",
       "    <tr>\n",
       "      <th>4</th>\n",
       "      <td>1</td>\n",
       "      <td>Regulatory_Build</td>\n",
       "      <td>open_chromatin_region</td>\n",
       "      <td>60892868</td>\n",
       "      <td>60893296</td>\n",
       "      <td>.</td>\n",
       "      <td>.</td>\n",
       "      <td>.</td>\n",
       "      <td>activity=INACTIVE;bound_end=60893296;bound_sta...</td>\n",
       "      <td>H1_trophoblast</td>\n",
       "      <td>ENSR00000009711</td>\n",
       "    </tr>\n",
       "  </tbody>\n",
       "</table>\n",
       "</div>"
      ],
      "text/plain": [
       "  chromosome            source                   type      start        end  \\\n",
       "0         15  Regulatory_Build        TF_binding_site  102118789  102119129   \n",
       "1          7  Regulatory_Build        TF_binding_site    1619070    1619637   \n",
       "2         22  Regulatory_Build  open_chromatin_region   34001171   34001716   \n",
       "3         19  Regulatory_Build      CTCF_binding_site   31805801   31806200   \n",
       "4          1  Regulatory_Build  open_chromatin_region   60892868   60893296   \n",
       "\n",
       "  score strand phase                                         attributes  \\\n",
       "0     .      .     .  activity=INACTIVE;bound_end=102119230;bound_st...   \n",
       "1     .      .     .  activity=INACTIVE;bound_end=1619683;bound_star...   \n",
       "2     .      .     .  activity=INACTIVE;bound_end=34001716;bound_sta...   \n",
       "3     .      .     .  activity=REPRESSED;bound_end=31806200;bound_st...   \n",
       "4     .      .     .  activity=INACTIVE;bound_end=60893296;bound_sta...   \n",
       "\n",
       "      tissue type regulatory_feature_stable_id  \n",
       "0  H1_trophoblast              ENSR00000368862  \n",
       "1  H1_trophoblast              ENSR00000408425  \n",
       "2  H1_trophoblast              ENSR00000196038  \n",
       "3  H1_trophoblast              ENSR00000145779  \n",
       "4  H1_trophoblast              ENSR00000009711  "
      ]
     },
     "execution_count": 76,
     "metadata": {},
     "output_type": "execute_result"
    }
   ],
   "source": [
    "dgff_regulation_combo.head()"
   ]
  },
  {
   "cell_type": "code",
   "execution_count": null,
   "metadata": {},
   "outputs": [],
   "source": []
  },
  {
   "cell_type": "code",
   "execution_count": null,
   "metadata": {},
   "outputs": [],
   "source": []
  },
  {
   "cell_type": "code",
   "execution_count": null,
   "metadata": {},
   "outputs": [],
   "source": []
  },
  {
   "cell_type": "code",
   "execution_count": null,
   "metadata": {},
   "outputs": [],
   "source": []
  },
  {
   "cell_type": "code",
   "execution_count": null,
   "metadata": {},
   "outputs": [],
   "source": []
  },
  {
   "cell_type": "code",
   "execution_count": 60,
   "metadata": {},
   "outputs": [],
   "source": [
    "dgff_regulation_combo.to_parquet?"
   ]
  },
  {
   "cell_type": "code",
   "execution_count": null,
   "metadata": {},
   "outputs": [],
   "source": []
  },
  {
   "cell_type": "code",
   "execution_count": null,
   "metadata": {},
   "outputs": [],
   "source": []
  },
  {
   "cell_type": "code",
   "execution_count": 8,
   "metadata": {},
   "outputs": [],
   "source": [
    "# dpeaksgff=pd.read_table(f'{ddir}/ensembl/raw/ftp.ensembl.org/pub/grch37/update/regulation/homo_sapiens/Peaks/A549/CTCF/homo_sapiens.GRCh37.A549.CTCF.SWEmbl_R0005_IDR.peaks.20161117.gff.gz')"
   ]
  },
  {
   "cell_type": "code",
   "execution_count": 65,
   "metadata": {},
   "outputs": [
    {
     "data": {
      "text/html": [
       "<div>\n",
       "<style scoped>\n",
       "    .dataframe tbody tr th:only-of-type {\n",
       "        vertical-align: middle;\n",
       "    }\n",
       "\n",
       "    .dataframe tbody tr th {\n",
       "        vertical-align: top;\n",
       "    }\n",
       "\n",
       "    .dataframe thead th {\n",
       "        text-align: right;\n",
       "    }\n",
       "</style>\n",
       "<table border=\"1\" class=\"dataframe\">\n",
       "  <thead>\n",
       "    <tr style=\"text-align: right;\">\n",
       "      <th></th>\n",
       "      <th>chromosome</th>\n",
       "      <th>source</th>\n",
       "      <th>type</th>\n",
       "      <th>start</th>\n",
       "      <th>end</th>\n",
       "      <th>score</th>\n",
       "      <th>strand</th>\n",
       "      <th>phase</th>\n",
       "      <th>attributes</th>\n",
       "      <th>tissue type</th>\n",
       "      <th>regulatory_feature_stable_id</th>\n",
       "    </tr>\n",
       "  </thead>\n",
       "  <tbody>\n",
       "    <tr>\n",
       "      <th>0</th>\n",
       "      <td>15</td>\n",
       "      <td>Regulatory_Build</td>\n",
       "      <td>TF_binding_site</td>\n",
       "      <td>102118789</td>\n",
       "      <td>102119129</td>\n",
       "      <td>.</td>\n",
       "      <td>.</td>\n",
       "      <td>.</td>\n",
       "      <td>activity=INACTIVE;bound_end=102119230;bound_st...</td>\n",
       "      <td>H1_trophoblast</td>\n",
       "      <td>ENSR00000368862</td>\n",
       "    </tr>\n",
       "    <tr>\n",
       "      <th>1</th>\n",
       "      <td>7</td>\n",
       "      <td>Regulatory_Build</td>\n",
       "      <td>TF_binding_site</td>\n",
       "      <td>1619070</td>\n",
       "      <td>1619637</td>\n",
       "      <td>.</td>\n",
       "      <td>.</td>\n",
       "      <td>.</td>\n",
       "      <td>activity=INACTIVE;bound_end=1619683;bound_star...</td>\n",
       "      <td>H1_trophoblast</td>\n",
       "      <td>ENSR00000408425</td>\n",
       "    </tr>\n",
       "    <tr>\n",
       "      <th>2</th>\n",
       "      <td>22</td>\n",
       "      <td>Regulatory_Build</td>\n",
       "      <td>open_chromatin_region</td>\n",
       "      <td>34001171</td>\n",
       "      <td>34001716</td>\n",
       "      <td>.</td>\n",
       "      <td>.</td>\n",
       "      <td>.</td>\n",
       "      <td>activity=INACTIVE;bound_end=34001716;bound_sta...</td>\n",
       "      <td>H1_trophoblast</td>\n",
       "      <td>ENSR00000196038</td>\n",
       "    </tr>\n",
       "    <tr>\n",
       "      <th>3</th>\n",
       "      <td>19</td>\n",
       "      <td>Regulatory_Build</td>\n",
       "      <td>CTCF_binding_site</td>\n",
       "      <td>31805801</td>\n",
       "      <td>31806200</td>\n",
       "      <td>.</td>\n",
       "      <td>.</td>\n",
       "      <td>.</td>\n",
       "      <td>activity=REPRESSED;bound_end=31806200;bound_st...</td>\n",
       "      <td>H1_trophoblast</td>\n",
       "      <td>ENSR00000145779</td>\n",
       "    </tr>\n",
       "    <tr>\n",
       "      <th>4</th>\n",
       "      <td>1</td>\n",
       "      <td>Regulatory_Build</td>\n",
       "      <td>open_chromatin_region</td>\n",
       "      <td>60892868</td>\n",
       "      <td>60893296</td>\n",
       "      <td>.</td>\n",
       "      <td>.</td>\n",
       "      <td>.</td>\n",
       "      <td>activity=INACTIVE;bound_end=60893296;bound_sta...</td>\n",
       "      <td>H1_trophoblast</td>\n",
       "      <td>ENSR00000009711</td>\n",
       "    </tr>\n",
       "  </tbody>\n",
       "</table>\n",
       "</div>"
      ],
      "text/plain": [
       "  chromosome            source                   type      start        end  \\\n",
       "0         15  Regulatory_Build        TF_binding_site  102118789  102119129   \n",
       "1          7  Regulatory_Build        TF_binding_site    1619070    1619637   \n",
       "2         22  Regulatory_Build  open_chromatin_region   34001171   34001716   \n",
       "3         19  Regulatory_Build      CTCF_binding_site   31805801   31806200   \n",
       "4          1  Regulatory_Build  open_chromatin_region   60892868   60893296   \n",
       "\n",
       "  score strand phase                                         attributes  \\\n",
       "0     .      .     .  activity=INACTIVE;bound_end=102119230;bound_st...   \n",
       "1     .      .     .  activity=INACTIVE;bound_end=1619683;bound_star...   \n",
       "2     .      .     .  activity=INACTIVE;bound_end=34001716;bound_sta...   \n",
       "3     .      .     .  activity=REPRESSED;bound_end=31806200;bound_st...   \n",
       "4     .      .     .  activity=INACTIVE;bound_end=60893296;bound_sta...   \n",
       "\n",
       "      tissue type regulatory_feature_stable_id  \n",
       "0  H1_trophoblast              ENSR00000368862  \n",
       "1  H1_trophoblast              ENSR00000408425  \n",
       "2  H1_trophoblast              ENSR00000196038  \n",
       "3  H1_trophoblast              ENSR00000145779  \n",
       "4  H1_trophoblast              ENSR00000009711  "
      ]
     },
     "execution_count": 65,
     "metadata": {},
     "output_type": "execute_result"
    }
   ],
   "source": [
    "dgff_regulation_combo.head()"
   ]
  },
  {
   "cell_type": "code",
   "execution_count": 66,
   "metadata": {},
   "outputs": [
    {
     "data": {
      "text/plain": [
       "['chromosome',\n",
       " 'source',\n",
       " 'type',\n",
       " 'start',\n",
       " 'end',\n",
       " 'score',\n",
       " 'strand',\n",
       " 'phase',\n",
       " 'attributes',\n",
       " 'tissue type',\n",
       " 'regulatory_feature_stable_id']"
      ]
     },
     "execution_count": 66,
     "metadata": {},
     "output_type": "execute_result"
    }
   ],
   "source": [
    "dgff_regulation_combo.columns.tolist()"
   ]
  },
  {
   "cell_type": "code",
   "execution_count": null,
   "metadata": {},
   "outputs": [],
   "source": []
  },
  {
   "cell_type": "code",
   "execution_count": null,
   "metadata": {},
   "outputs": [],
   "source": []
  },
  {
   "cell_type": "code",
   "execution_count": null,
   "metadata": {},
   "outputs": [],
   "source": []
  },
  {
   "cell_type": "code",
   "execution_count": 11,
   "metadata": {},
   "outputs": [
    {
     "data": {
      "text/html": [
       "<div>\n",
       "<style scoped>\n",
       "    .dataframe tbody tr th:only-of-type {\n",
       "        vertical-align: middle;\n",
       "    }\n",
       "\n",
       "    .dataframe tbody tr th {\n",
       "        vertical-align: top;\n",
       "    }\n",
       "\n",
       "    .dataframe thead th {\n",
       "        text-align: right;\n",
       "    }\n",
       "</style>\n",
       "<table border=\"1\" class=\"dataframe\">\n",
       "  <thead>\n",
       "    <tr style=\"text-align: right;\">\n",
       "      <th></th>\n",
       "      <th>chromosome</th>\n",
       "      <th>source</th>\n",
       "      <th>type</th>\n",
       "      <th>start</th>\n",
       "      <th>end</th>\n",
       "      <th>score</th>\n",
       "      <th>strand</th>\n",
       "      <th>phase</th>\n",
       "      <th>attributes</th>\n",
       "      <th>regulatory_feature_stable_id</th>\n",
       "    </tr>\n",
       "  </thead>\n",
       "  <tbody>\n",
       "    <tr>\n",
       "      <th>0</th>\n",
       "      <td>15</td>\n",
       "      <td>Regulatory_Build</td>\n",
       "      <td>TF_binding_site</td>\n",
       "      <td>102118789</td>\n",
       "      <td>102119129</td>\n",
       "      <td>.</td>\n",
       "      <td>.</td>\n",
       "      <td>.</td>\n",
       "      <td>activity=INACTIVE;bound_end=102119230;bound_st...</td>\n",
       "      <td>ENSR00000368862</td>\n",
       "    </tr>\n",
       "    <tr>\n",
       "      <th>1</th>\n",
       "      <td>7</td>\n",
       "      <td>Regulatory_Build</td>\n",
       "      <td>TF_binding_site</td>\n",
       "      <td>1619070</td>\n",
       "      <td>1619637</td>\n",
       "      <td>.</td>\n",
       "      <td>.</td>\n",
       "      <td>.</td>\n",
       "      <td>activity=INACTIVE;bound_end=1619683;bound_star...</td>\n",
       "      <td>ENSR00000408425</td>\n",
       "    </tr>\n",
       "    <tr>\n",
       "      <th>2</th>\n",
       "      <td>22</td>\n",
       "      <td>Regulatory_Build</td>\n",
       "      <td>open_chromatin_region</td>\n",
       "      <td>34001171</td>\n",
       "      <td>34001716</td>\n",
       "      <td>.</td>\n",
       "      <td>.</td>\n",
       "      <td>.</td>\n",
       "      <td>activity=INACTIVE;bound_end=34001716;bound_sta...</td>\n",
       "      <td>ENSR00000196038</td>\n",
       "    </tr>\n",
       "    <tr>\n",
       "      <th>3</th>\n",
       "      <td>19</td>\n",
       "      <td>Regulatory_Build</td>\n",
       "      <td>CTCF_binding_site</td>\n",
       "      <td>31805801</td>\n",
       "      <td>31806200</td>\n",
       "      <td>.</td>\n",
       "      <td>.</td>\n",
       "      <td>.</td>\n",
       "      <td>activity=REPRESSED;bound_end=31806200;bound_st...</td>\n",
       "      <td>ENSR00000145779</td>\n",
       "    </tr>\n",
       "    <tr>\n",
       "      <th>4</th>\n",
       "      <td>1</td>\n",
       "      <td>Regulatory_Build</td>\n",
       "      <td>open_chromatin_region</td>\n",
       "      <td>60892868</td>\n",
       "      <td>60893296</td>\n",
       "      <td>.</td>\n",
       "      <td>.</td>\n",
       "      <td>.</td>\n",
       "      <td>activity=INACTIVE;bound_end=60893296;bound_sta...</td>\n",
       "      <td>ENSR00000009711</td>\n",
       "    </tr>\n",
       "  </tbody>\n",
       "</table>\n",
       "</div>"
      ],
      "text/plain": [
       "  chromosome            source                   type      start        end  \\\n",
       "0         15  Regulatory_Build        TF_binding_site  102118789  102119129   \n",
       "1          7  Regulatory_Build        TF_binding_site    1619070    1619637   \n",
       "2         22  Regulatory_Build  open_chromatin_region   34001171   34001716   \n",
       "3         19  Regulatory_Build      CTCF_binding_site   31805801   31806200   \n",
       "4          1  Regulatory_Build  open_chromatin_region   60892868   60893296   \n",
       "\n",
       "  score strand phase                                         attributes  \\\n",
       "0     .      .     .  activity=INACTIVE;bound_end=102119230;bound_st...   \n",
       "1     .      .     .  activity=INACTIVE;bound_end=1619683;bound_star...   \n",
       "2     .      .     .  activity=INACTIVE;bound_end=34001716;bound_sta...   \n",
       "3     .      .     .  activity=REPRESSED;bound_end=31806200;bound_st...   \n",
       "4     .      .     .  activity=INACTIVE;bound_end=60893296;bound_sta...   \n",
       "\n",
       "  regulatory_feature_stable_id  \n",
       "0              ENSR00000368862  \n",
       "1              ENSR00000408425  \n",
       "2              ENSR00000196038  \n",
       "3              ENSR00000145779  \n",
       "4              ENSR00000009711  "
      ]
     },
     "execution_count": 11,
     "metadata": {},
     "output_type": "execute_result"
    }
   ],
   "source": [
    "dgff_regulation.head()"
   ]
  },
  {
   "cell_type": "code",
   "execution_count": 42,
   "metadata": {},
   "outputs": [
    {
     "data": {
      "text/plain": [
       "(280027, 10)"
      ]
     },
     "execution_count": 42,
     "metadata": {},
     "output_type": "execute_result"
    }
   ],
   "source": [
    "dgff_regulation.shape"
   ]
  },
  {
   "cell_type": "code",
   "execution_count": 44,
   "metadata": {},
   "outputs": [
    {
     "data": {
      "text/plain": [
       "open_chromatin_region       110133\n",
       "CTCF_binding_site            57249\n",
       "promoter_flanking_region     46532\n",
       "enhancer                     28239\n",
       "TF_binding_site              23034\n",
       "promoter                     14840\n",
       "Name: type, dtype: int64"
      ]
     },
     "execution_count": 44,
     "metadata": {},
     "output_type": "execute_result"
    }
   ],
   "source": [
    "dgff_regulation[\"type\"].value_counts()"
   ]
  },
  {
   "cell_type": "code",
   "execution_count": null,
   "metadata": {},
   "outputs": [],
   "source": []
  },
  {
   "cell_type": "code",
   "execution_count": null,
   "metadata": {},
   "outputs": [],
   "source": []
  },
  {
   "cell_type": "code",
   "execution_count": null,
   "metadata": {},
   "outputs": [],
   "source": []
  },
  {
   "cell_type": "code",
   "execution_count": null,
   "metadata": {},
   "outputs": [],
   "source": [
    "dgff_regulation.iloc[0,:].T.tolist()"
   ]
  },
  {
   "cell_type": "code",
   "execution_count": null,
   "metadata": {
    "scrolled": true
   },
   "outputs": [],
   "source": [
    "dgff.Regulatory_Build.value_counts()"
   ]
  },
  {
   "cell_type": "code",
   "execution_count": null,
   "metadata": {},
   "outputs": [],
   "source": [
    "dgff.TF_binding_site.value_counts()"
   ]
  },
  {
   "cell_type": "code",
   "execution_count": null,
   "metadata": {},
   "outputs": [],
   "source": [
    "%ls /data/analysis/ensembl/raw/ftp.ensembl.org/"
   ]
  },
  {
   "cell_type": "code",
   "execution_count": null,
   "metadata": {},
   "outputs": [],
   "source": [
    "dgwas.head()"
   ]
  },
  {
   "cell_type": "code",
   "execution_count": null,
   "metadata": {},
   "outputs": [],
   "source": [
    "dAnnotatedFeatures.head()"
   ]
  },
  {
   "cell_type": "code",
   "execution_count": null,
   "metadata": {},
   "outputs": [],
   "source": []
  }
 ],
 "metadata": {
  "kernelspec": {
   "display_name": "Python 3",
   "language": "python",
   "name": "python3"
  },
  "language_info": {
   "codemirror_mode": {
    "name": "ipython",
    "version": 3
   },
   "file_extension": ".py",
   "mimetype": "text/x-python",
   "name": "python",
   "nbconvert_exporter": "python",
   "pygments_lexer": "ipython3",
   "version": "3.7.0"
  }
 },
 "nbformat": 4,
 "nbformat_minor": 2
}
