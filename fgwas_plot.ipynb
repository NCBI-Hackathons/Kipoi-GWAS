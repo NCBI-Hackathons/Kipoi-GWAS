{
 "cells": [
  {
   "cell_type": "code",
   "execution_count": null,
   "metadata": {},
   "outputs": [],
   "source": [
    "fgwas_output = '/data/analysis/UKBB/result/DeepBind.bfs.gz'\n"
   ]
  },
  {
   "cell_type": "code",
   "execution_count": 1,
   "metadata": {},
   "outputs": [],
   "source": [
    "import pandas as pd\n",
    "import numpy as np\n",
    "import matplotlib.pyplot as plt\n",
    "%matplotlib inline\n",
    "from glob import glob\n",
    "from collections import OrderedDict\n"
   ]
  },
  {
   "cell_type": "code",
   "execution_count": 76,
   "metadata": {},
   "outputs": [],
   "source": [
    "fgwas=pd.read_csv(fgwas_output,sep=' ')\n",
    "fgwas_no=pd.read_csv('/data/analysis/UKBB/processed/test1.bfs.gz',sep=' ')\n",
    "region = pd.read_csv('/data/analysis/UKBB/processed/I10.gwas.imputed_v3.both_sexes.finemapping.full.tsv.gz',\n",
    "                    compression='gzip', sep=' ')"
   ]
  },
  {
   "cell_type": "code",
   "execution_count": 34,
   "metadata": {},
   "outputs": [],
   "source": [
    "###plot the distribution of PPA\n",
    "def PPAHist(chrs):\n",
    "    x = fgwas.loc[(fgwas['chr']==chrs), \"PPA\"]\n",
    "    print(max(x))\n",
    "    n, bins, patches = plt.hist(x, 50, density=True, facecolor='g', alpha=0.75)\n",
    "    plt.hist(x, bins=bins)\n",
    "    plt.xlabel('PPA')\n",
    "    plt.ylabel('count')\n",
    "    plt.title('Histogram of PPA of fine-mapping region #' + str(chrs))\n",
    "    plt.grid(True)\n",
    "    plt.show()"
   ]
  },
  {
   "cell_type": "code",
   "execution_count": 35,
   "metadata": {},
   "outputs": [
    {
     "name": "stdout",
     "output_type": "stream",
     "text": [
      "0.0323424\n"
     ]
    },
    {
     "data": {
      "image/png": "[encoded data removed]",
      "text/plain": [
       "<Figure size 432x288 with 1 Axes>"
      ]
     },
     "metadata": {
      "needs_background": "light"
     },
     "output_type": "display_data"
    }
   ],
   "source": [
    "PPAHist(12)"
   ]
  },
  {
   "cell_type": "code",
   "execution_count": 81,
   "metadata": {},
   "outputs": [],
   "source": [
    "#get the max PPA by each seg\n",
    "def rankPPA(fgwas, region): \n",
    "    print(\"best fine-mappinig result\")\n",
    "    indices = fgwas.groupby('chunk')['PPA'].idxmax\n",
    "    print(fgwas.loc[indices])\n",
    "    print(\"best GWAS result\")\n",
    "    indices = region.groupby('SEGNUMBER')['pval'].idxmin\n",
    "    print(region.loc[indices])\n",
    "    "
   ]
  },
  {
   "cell_type": "code",
   "execution_count": 70,
   "metadata": {},
   "outputs": [
    {
     "name": "stdout",
     "output_type": "stream",
     "text": [
      "best fine-mappinig result\n",
      "      chr_x     pos_x ref alt    index          variant minor_allele  \\\n",
      "2938     12  82556397   T   C  9710012  12:82556397:T:C            C   \n",
      "\n",
      "      minor_AF  expected_case_minor_AC  low_confidence_variant  ...   chr_y  \\\n",
      "2938  0.418221                 723.523                   False  ...      12   \n",
      "\n",
      "         pos_y    logBF        Z         V       pi  pseudologPO  pseudoPPA  \\\n",
      "2938  82556397  9.69057  4.96064  0.002617 -8.61939      1.07136   0.744856   \n",
      "\n",
      "           PPA chunk  \n",
      "2938  0.032342     0  \n",
      "\n",
      "[1 rows x 30 columns]\n",
      "best GWAS result\n",
      "      chr_x     pos_x ref alt    index          variant minor_allele  \\\n",
      "2938     12  82556397   T   C  9710012  12:82556397:T:C            C   \n",
      "\n",
      "      minor_AF  expected_case_minor_AC  low_confidence_variant  ...   chr_y  \\\n",
      "2938  0.418221                 723.523                   False  ...      12   \n",
      "\n",
      "         pos_y    logBF        Z         V       pi  pseudologPO  pseudoPPA  \\\n",
      "2938  82556397  9.69057  4.96064  0.002617 -8.61939      1.07136   0.744856   \n",
      "\n",
      "           PPA chunk  \n",
      "2938  0.032342     0  \n",
      "\n",
      "[1 rows x 30 columns]\n"
     ]
    }
   ],
   "source": [
    "#merge the GWAS pvalue with the finemapping \n",
    "res = pd.merge(region, fgwas, left_on = 'variant', right_on = 'id')\n",
    "sub = res.loc[(fgwas['chunk']==0), ]\n",
    "rankPPA(sub)"
   ]
  },
  {
   "cell_type": "code",
   "execution_count": 71,
   "metadata": {},
   "outputs": [],
   "source": [
    "def plotRegion(sub):\n",
    "    data1 = -np.log10(sub[\"pval\"])\n",
    "    data2 = sub[\"PPA\"]\n",
    "    pos = sub[\"pos_x\"]\n",
    "\n",
    "    fig, ax1 = plt.subplots()\n",
    "\n",
    "    color = 'tab:red'\n",
    "    ax1.set_xlabel('Position')\n",
    "    ax1.set_ylabel('-log10(pval)', color=color)\n",
    "    ax1.scatter(pos, data1, color=color,  label='-log10(pvalue)')\n",
    "    ax1.tick_params(axis='y', labelcolor=color)\n",
    "    plt.legend(loc=2)\n",
    "    ax2 = ax1.twinx()  # instantiate a second axes that shares the same x-axis\n",
    "\n",
    "    color = 'tab:blue'\n",
    "    ax2.set_ylabel('PPA', color=color)  # we already handled the x-label with ax1\n",
    "    ax2.scatter(pos, data2, color=color, label='fine-mapping PPA')\n",
    "    ax2.tick_params(axis='y', labelcolor=color)\n",
    "    plt.legend(loc=0)\n",
    "    ax2.set_ylim(-0.001,0.04)\n",
    "    ax2.set_xlim(8.24e7,8.27e7)\n",
    "    fig.tight_layout()  # otherwise the right y-label is slightly clipped\n",
    "\n",
    "    plt.show()"
   ]
  },
  {
   "cell_type": "code",
   "execution_count": 72,
   "metadata": {},
   "outputs": [
    {
     "data": {
      "image/png": "[encoded data removed]",
      "text/plain": [
       "<Figure size 432x288 with 2 Axes>"
      ]
     },
     "metadata": {
      "needs_background": "light"
     },
     "output_type": "display_data"
    }
   ],
   "source": [
    "plotRegion(sub)"
   ]
  },
  {
   "cell_type": "code",
   "execution_count": 75,
   "metadata": {},
   "outputs": [
    {
     "data": {
      "text/html": [
       "<div>\n",
       "<style scoped>\n",
       "    .dataframe tbody tr th:only-of-type {\n",
       "        vertical-align: middle;\n",
       "    }\n",
       "\n",
       "    .dataframe tbody tr th {\n",
       "        vertical-align: top;\n",
       "    }\n",
       "\n",
       "    .dataframe thead th {\n",
       "        text-align: right;\n",
       "    }\n",
       "</style>\n",
       "<table border=\"1\" class=\"dataframe\">\n",
       "  <thead>\n",
       "    <tr style=\"text-align: right;\">\n",
       "      <th></th>\n",
       "      <th>chr</th>\n",
       "      <th>pos</th>\n",
       "      <th>ref</th>\n",
       "      <th>alt</th>\n",
       "      <th>index</th>\n",
       "      <th>variant</th>\n",
       "      <th>minor_allele</th>\n",
       "      <th>minor_AF</th>\n",
       "      <th>expected_case_minor_AC</th>\n",
       "      <th>low_confidence_variant</th>\n",
       "      <th>n_complete_samples</th>\n",
       "      <th>AC</th>\n",
       "      <th>ytx</th>\n",
       "      <th>beta</th>\n",
       "      <th>se</th>\n",
       "      <th>tstat</th>\n",
       "      <th>pval</th>\n",
       "      <th>SEGNUMBER</th>\n",
       "      <th>snp</th>\n",
       "    </tr>\n",
       "  </thead>\n",
       "  <tbody>\n",
       "    <tr>\n",
       "      <th>17759</th>\n",
       "      <td>4</td>\n",
       "      <td>182158091</td>\n",
       "      <td>C</td>\n",
       "      <td>T</td>\n",
       "      <td>4051199</td>\n",
       "      <td>4:182158091:C:T</td>\n",
       "      <td>T</td>\n",
       "      <td>0.018967</td>\n",
       "      <td>32.8128</td>\n",
       "      <td>False</td>\n",
       "      <td>361194</td>\n",
       "      <td>13701.5</td>\n",
       "      <td>63.0039</td>\n",
       "      <td>0.002451</td>\n",
       "      <td>0.000442</td>\n",
       "      <td>5.53961</td>\n",
       "      <td>3.033530e-08</td>\n",
       "      <td>2</td>\n",
       "      <td>4_182158091</td>\n",
       "    </tr>\n",
       "  </tbody>\n",
       "</table>\n",
       "</div>"
      ],
      "text/plain": [
       "       chr        pos ref alt    index          variant minor_allele  \\\n",
       "17759    4  182158091   C   T  4051199  4:182158091:C:T            T   \n",
       "\n",
       "       minor_AF  expected_case_minor_AC  low_confidence_variant  \\\n",
       "17759  0.018967                 32.8128                   False   \n",
       "\n",
       "       n_complete_samples       AC      ytx      beta        se    tstat  \\\n",
       "17759              361194  13701.5  63.0039  0.002451  0.000442  5.53961   \n",
       "\n",
       "               pval  SEGNUMBER          snp  \n",
       "17759  3.033530e-08          2  4_182158091  "
      ]
     },
     "execution_count": 75,
     "metadata": {},
     "output_type": "execute_result"
    }
   ],
   "source": [
    "region.loc[(region['pval']==min(region['pval']))]"
   ]
  },
  {
   "cell_type": "code",
   "execution_count": 83,
   "metadata": {},
   "outputs": [
    {
     "name": "stdout",
     "output_type": "stream",
     "text": [
      "best fine-mappinig result\n",
      "                      id  chr        pos     logBF        Z         V  \\\n",
      "3083     3:150488202:T:A    3  150488202   8.57247 -4.77635  0.023754   \n",
      "17759    4:182158091:C:T    4  182158091  11.98960  5.53961  0.034219   \n",
      "25364     6:11491250:A:G    6   11491250   8.07702  4.71063  0.037780   \n",
      "41861   7:51185016:AAT:A    7   51185016  10.52620  5.14288  0.009319   \n",
      "46655     8:36056701:G:A    8   36056701   8.94059  4.92334  0.041508   \n",
      "59518   9:111786116:CA:C    9  111786116  10.96600  5.25490  0.014711   \n",
      "67325    10:72684850:T:C   10   72684850   8.77305  4.82780  0.025245   \n",
      "78719   11:116037160:T:C   11  116037160   9.25028  4.99755  0.042864   \n",
      "86130  12:82565154:T:TAA   12   82565154   9.86109  4.99660  0.002607   \n",
      "92468    15:37229967:A:G   15   37229967   8.13051  4.72467  0.038188   \n",
      "98552    17:42894350:G:A   17   42894350  10.43160  5.21401  0.031753   \n",
      "\n",
      "            pi  pseudologPO  pseudoPPA       PPA  chunk  \n",
      "3083  -8.70168    -0.129045   0.467783  0.057820      0  \n",
      "17759 -9.68458     2.305060   0.909295  0.661716      1  \n",
      "25364 -8.84318    -0.766023   0.317340  0.318764      2  \n",
      "41861 -9.69659     0.829683   0.696288  0.135495      3  \n",
      "46655 -7.96137     0.979571   0.727023  0.327922      4  \n",
      "59518 -9.62344     1.342610   0.792920  0.506061      5  \n",
      "67325 -8.96367    -0.190496   0.452519  0.437564      6  \n",
      "78719 -9.36452    -0.114157   0.471492  0.132514      7  \n",
      "86130 -8.74449     1.116760   0.753387  0.033258      8  \n",
      "92468 -8.80357    -0.672916   0.337844  0.467495      9  \n",
      "98552 -9.34347     1.088170   0.748037  0.262570     10  \n",
      "best GWAS result\n",
      "       chr        pos  ref  alt     index            variant minor_allele  \\\n",
      "3083     3  150488202    T    A   2905256    3:150488202:T:A            A   \n",
      "17759    4  182158091    C    T   4051199    4:182158091:C:T            T   \n",
      "25364    6   11491250    A    G   5040659     6:11491250:A:G            G   \n",
      "41861    7   51185016  AAT    A   6162668   7:51185016:AAT:A            A   \n",
      "46655    8   36056701    G    A   6891268     8:36056701:G:A            A   \n",
      "59518    9  111786116   CA    C   7832246   9:111786116:CA:C            C   \n",
      "67325   10   72684850    T    C   8343522    10:72684850:T:C            C   \n",
      "78719   11  116037160    T    C   9226660   11:116037160:T:C            C   \n",
      "86130   12   82565154    T  TAA   9710088  12:82565154:T:TAA          TAA   \n",
      "92468   15   37229967    A    G  10934358    15:37229967:A:G            G   \n",
      "98552   17   42894350    G    A  11849001    17:42894350:G:A            A   \n",
      "\n",
      "       minor_AF  expected_case_minor_AC  low_confidence_variant  \\\n",
      "3083   0.027564                 47.6855                   False   \n",
      "17759  0.018967                 32.8128                   False   \n",
      "25364  0.017147                 29.6644                   False   \n",
      "41861  0.073765                127.6130                   False   \n",
      "46655  0.015582                 26.9571                   False   \n",
      "59518  0.045338                 78.4349                   False   \n",
      "67325  0.025892                 44.7927                   False   \n",
      "78719  0.015082                 26.0914                   False   \n",
      "86130  0.423751                733.0900                   False   \n",
      "92468  0.016961                 29.3420                   False   \n",
      "98552  0.020471                 35.4149                   False   \n",
      "\n",
      "       n_complete_samples        AC       ytx      beta        se    tstat  \\\n",
      "3083               361194   19911.8   15.1529 -0.001685  0.000353 -4.77635   \n",
      "17759              361194   13701.5   63.0039  0.002451  0.000442  5.53961   \n",
      "25364              361194   12386.8   54.1451  0.002178  0.000462  4.71063   \n",
      "41861              361194   53287.0  182.9100  0.001133  0.000220  5.14288   \n",
      "46655              361194   11256.3   51.4196  0.002372  0.000482  4.92334   \n",
      "59518              361194   32751.7  120.7410  0.001578  0.000300  5.25490   \n",
      "67325              361194   18703.9   75.9843  0.001783  0.000369  4.82780   \n",
      "78719              361194   10894.9   50.7922  0.002454  0.000491  4.99755   \n",
      "86130              361194  306113.0  836.9410  0.000586  0.000117  4.99660   \n",
      "92468              361194   12252.2   54.1216  0.002129  0.000451  4.72467   \n",
      "98552              361194   14788.0   66.1647  0.002128  0.000408  5.21401   \n",
      "\n",
      "               pval  SEGNUMBER           snp  \n",
      "3083   1.785720e-06          1   3_150488202  \n",
      "17759  3.033530e-08          2   4_182158091  \n",
      "25364  2.470460e-06          3    6_11491250  \n",
      "41861  2.707040e-07          4    7_51185016  \n",
      "46655  8.511580e-07          5    8_36056701  \n",
      "59518  1.481890e-07          6   9_111786116  \n",
      "67325  1.381090e-06          7   10_72684850  \n",
      "78719  5.809030e-07          8  11_116037160  \n",
      "86130  5.837790e-07          9   12_82565154  \n",
      "92468  2.305750e-06         10   15_37229967  \n",
      "98552  1.849030e-07         11   17_42894350  \n"
     ]
    }
   ],
   "source": [
    "rankPPA(fgwas_no, region)"
   ]
  }
 ],
 "metadata": {
  "kernelspec": {
   "display_name": "Python 3",
   "language": "python",
   "name": "python3"
  },
  "language_info": {
   "codemirror_mode": {
    "name": "ipython",
    "version": 3
   },
   "file_extension": ".py",
   "mimetype": "text/x-python",
   "name": "python",
   "nbconvert_exporter": "python",
   "pygments_lexer": "ipython3",
   "version": "3.7.0"
  }
 },
 "nbformat": 4,
 "nbformat_minor": 2
}
