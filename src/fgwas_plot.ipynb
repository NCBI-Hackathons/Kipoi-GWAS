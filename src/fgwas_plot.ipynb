{
 "cells": [
  {
   "cell_type": "markdown",
   "metadata": {},
   "source": [
    "# Report\n",
    "## Makes the `fgwas` visualizations\n",
    "\n",
    "PPA: Posterior Probability Association"
   ]
  },
  {
   "cell_type": "markdown",
   "metadata": {},
   "source": [
    "### Load inputs and libraries"
   ]
  },
  {
   "cell_type": "code",
   "execution_count": 9,
   "metadata": {
    "tags": [
     "parameters"
    ]
   },
   "outputs": [],
   "source": [
    "fgwas_output = '/data/analysis/UKBB/result/DeepBind.bfs.gz'\n",
    "gwas = '/data/analysis/UKBB/processed/I10.gwas.imputed_v3.both_sexes.finemapping.tsv.gz'\n",
    "chr = 12\n",
    "chrs = int(str(chr).replace('chr', ''))\n"
   ]
  },
  {
   "cell_type": "code",
   "execution_count": 9,
   "metadata": {},
   "outputs": [],
   "source": [
    "import pandas as pd\n",
    "import numpy as np\n",
    "import matplotlib.pyplot as plt\n",
    "%matplotlib inline\n",
    "\n",
    "fgwas=pd.read_csv(fgwas_output, sep=' ')\n",
    "region = pd.read_csv(gwas, compression='gzip', sep=' ')"
   ]
  },
  {
   "cell_type": "markdown",
   "metadata": {},
   "source": [
    "### Plot the distribution of PPA"
   ]
  },
  {
   "cell_type": "code",
   "execution_count": 12,
   "metadata": {},
   "outputs": [],
   "source": [
    "def PPAHist(chrs):\n",
    "    x = fgwas.loc[(fgwas['chr']==chrs), \"PPA\"]\n",
    "    print('max PPA', max(x))\n",
    "    n, bins, patches = plt.hist(x, 50, density=True, facecolor='g', alpha=0.75)\n",
    "    plt.hist(x, bins=bins)\n",
    "    plt.xlabel('PPA')\n",
    "    plt.ylabel('count')\n",
    "    plt.title('Histogram of PPA of fine-mapping region #' + str(chrs))\n",
    "    plt.grid(True)\n",
    "    plt.show()"
   ]
  },
  {
   "cell_type": "code",
   "execution_count": 13,
   "metadata": {},
   "outputs": [
    {
     "name": "stdout",
     "output_type": "stream",
     "text": [
      "max PPA 0.0323424\n"
     ]
    },
    {
     "data": {
      "image/png": "[encoded data removed]",
      "text/plain": [
       "<Figure size 432x288 with 1 Axes>"
      ]
     },
     "metadata": {
      "needs_background": "light"
     },
     "output_type": "display_data"
    }
   ],
   "source": [
    "PPAHist(chrs)"
   ]
  },
  {
   "cell_type": "markdown",
   "metadata": {},
   "source": [
    "### Merge the GWAS pvalue with the finemapping."
   ]
  },
  {
   "cell_type": "code",
   "execution_count": 41,
   "metadata": {},
   "outputs": [],
   "source": [
    "table = pd.merge(region, fgwas, left_on = 'variant', right_on = 'id')"
   ]
  },
  {
   "cell_type": "code",
   "execution_count": 61,
   "metadata": {},
   "outputs": [
    {
     "name": "stdout",
     "output_type": "stream",
     "text": [
      "best fine-mappinig result:\n"
     ]
    },
    {
     "data": {
      "text/html": [
       "<div>\n",
       "<style scoped>\n",
       "    .dataframe tbody tr th:only-of-type {\n",
       "        vertical-align: middle;\n",
       "    }\n",
       "\n",
       "    .dataframe tbody tr th {\n",
       "        vertical-align: top;\n",
       "    }\n",
       "\n",
       "    .dataframe thead th {\n",
       "        text-align: right;\n",
       "    }\n",
       "</style>\n",
       "<table border=\"1\" class=\"dataframe\">\n",
       "  <thead>\n",
       "    <tr style=\"text-align: right;\">\n",
       "      <th></th>\n",
       "      <th>chr_x</th>\n",
       "      <th>pos_x</th>\n",
       "      <th>ref</th>\n",
       "      <th>alt</th>\n",
       "      <th>index</th>\n",
       "      <th>variant</th>\n",
       "      <th>minor_allele</th>\n",
       "      <th>minor_AF</th>\n",
       "      <th>expected_case_minor_AC</th>\n",
       "      <th>low_confidence_variant</th>\n",
       "      <th>...</th>\n",
       "      <th>chr_y</th>\n",
       "      <th>pos_y</th>\n",
       "      <th>logBF</th>\n",
       "      <th>Z</th>\n",
       "      <th>V</th>\n",
       "      <th>pi</th>\n",
       "      <th>pseudologPO</th>\n",
       "      <th>pseudoPPA</th>\n",
       "      <th>PPA</th>\n",
       "      <th>chunk</th>\n",
       "    </tr>\n",
       "  </thead>\n",
       "  <tbody>\n",
       "    <tr>\n",
       "      <th>2938</th>\n",
       "      <td>12</td>\n",
       "      <td>82556397</td>\n",
       "      <td>T</td>\n",
       "      <td>C</td>\n",
       "      <td>9710012</td>\n",
       "      <td>12:82556397:T:C</td>\n",
       "      <td>C</td>\n",
       "      <td>0.418221</td>\n",
       "      <td>723.523</td>\n",
       "      <td>False</td>\n",
       "      <td>...</td>\n",
       "      <td>12</td>\n",
       "      <td>82556397</td>\n",
       "      <td>9.69057</td>\n",
       "      <td>4.96064</td>\n",
       "      <td>0.002617</td>\n",
       "      <td>-8.61939</td>\n",
       "      <td>1.07136</td>\n",
       "      <td>0.744856</td>\n",
       "      <td>0.032342</td>\n",
       "      <td>0</td>\n",
       "    </tr>\n",
       "  </tbody>\n",
       "</table>\n",
       "<p>1 rows × 30 columns</p>\n",
       "</div>"
      ],
      "text/plain": [
       "      chr_x     pos_x ref alt    index          variant minor_allele  \\\n",
       "2938     12  82556397   T   C  9710012  12:82556397:T:C            C   \n",
       "\n",
       "      minor_AF  expected_case_minor_AC  low_confidence_variant  ...   chr_y  \\\n",
       "2938  0.418221                 723.523                   False  ...      12   \n",
       "\n",
       "         pos_y    logBF        Z         V       pi  pseudologPO  pseudoPPA  \\\n",
       "2938  82556397  9.69057  4.96064  0.002617 -8.61939      1.07136   0.744856   \n",
       "\n",
       "           PPA chunk  \n",
       "2938  0.032342     0  \n",
       "\n",
       "[1 rows x 30 columns]"
      ]
     },
     "execution_count": 61,
     "metadata": {},
     "output_type": "execute_result"
    }
   ],
   "source": [
    "print(\"best fine-mappinig result:\")\n",
    "indices = table.groupby('chunk')['PPA'].idxmax\n",
    "table.loc[indices]"
   ]
  },
  {
   "cell_type": "markdown",
   "metadata": {},
   "source": [
    "### GWAS result."
   ]
  },
  {
   "cell_type": "code",
   "execution_count": 60,
   "metadata": {},
   "outputs": [
    {
     "name": "stdout",
     "output_type": "stream",
     "text": [
      "best GWAS result:\n"
     ]
    },
    {
     "data": {
      "text/html": [
       "<div>\n",
       "<style scoped>\n",
       "    .dataframe tbody tr th:only-of-type {\n",
       "        vertical-align: middle;\n",
       "    }\n",
       "\n",
       "    .dataframe tbody tr th {\n",
       "        vertical-align: top;\n",
       "    }\n",
       "\n",
       "    .dataframe thead th {\n",
       "        text-align: right;\n",
       "    }\n",
       "</style>\n",
       "<table border=\"1\" class=\"dataframe\">\n",
       "  <thead>\n",
       "    <tr style=\"text-align: right;\">\n",
       "      <th></th>\n",
       "      <th>chr_x</th>\n",
       "      <th>pos_x</th>\n",
       "      <th>ref</th>\n",
       "      <th>alt</th>\n",
       "      <th>index</th>\n",
       "      <th>variant</th>\n",
       "      <th>minor_allele</th>\n",
       "      <th>minor_AF</th>\n",
       "      <th>expected_case_minor_AC</th>\n",
       "      <th>low_confidence_variant</th>\n",
       "      <th>...</th>\n",
       "      <th>chr_y</th>\n",
       "      <th>pos_y</th>\n",
       "      <th>logBF</th>\n",
       "      <th>Z</th>\n",
       "      <th>V</th>\n",
       "      <th>pi</th>\n",
       "      <th>pseudologPO</th>\n",
       "      <th>pseudoPPA</th>\n",
       "      <th>PPA</th>\n",
       "      <th>chunk</th>\n",
       "    </tr>\n",
       "  </thead>\n",
       "  <tbody>\n",
       "    <tr>\n",
       "      <th>2938</th>\n",
       "      <td>12</td>\n",
       "      <td>82556397</td>\n",
       "      <td>T</td>\n",
       "      <td>C</td>\n",
       "      <td>9710012</td>\n",
       "      <td>12:82556397:T:C</td>\n",
       "      <td>C</td>\n",
       "      <td>0.418221</td>\n",
       "      <td>723.523</td>\n",
       "      <td>False</td>\n",
       "      <td>...</td>\n",
       "      <td>12</td>\n",
       "      <td>82556397</td>\n",
       "      <td>9.69057</td>\n",
       "      <td>4.96064</td>\n",
       "      <td>0.002617</td>\n",
       "      <td>-8.61939</td>\n",
       "      <td>1.07136</td>\n",
       "      <td>0.744856</td>\n",
       "      <td>0.032342</td>\n",
       "      <td>0</td>\n",
       "    </tr>\n",
       "  </tbody>\n",
       "</table>\n",
       "<p>1 rows × 30 columns</p>\n",
       "</div>"
      ],
      "text/plain": [
       "      chr_x     pos_x ref alt    index          variant minor_allele  \\\n",
       "2938     12  82556397   T   C  9710012  12:82556397:T:C            C   \n",
       "\n",
       "      minor_AF  expected_case_minor_AC  low_confidence_variant  ...   chr_y  \\\n",
       "2938  0.418221                 723.523                   False  ...      12   \n",
       "\n",
       "         pos_y    logBF        Z         V       pi  pseudologPO  pseudoPPA  \\\n",
       "2938  82556397  9.69057  4.96064  0.002617 -8.61939      1.07136   0.744856   \n",
       "\n",
       "           PPA chunk  \n",
       "2938  0.032342     0  \n",
       "\n",
       "[1 rows x 30 columns]"
      ]
     },
     "execution_count": 60,
     "metadata": {},
     "output_type": "execute_result"
    }
   ],
   "source": [
    "print(\"best GWAS result:\")\n",
    "indices = table.groupby('SEGNUMBER')['pval'].idxmin\n",
    "table.loc[indices]"
   ]
  },
  {
   "cell_type": "code",
   "execution_count": 58,
   "metadata": {},
   "outputs": [],
   "source": [
    "def plotRegion(sub):\n",
    "    data1 = -np.log10(sub[\"pval\"])\n",
    "    data2 = sub[\"PPA\"]\n",
    "    pos = sub[\"pos_x\"]\n",
    "\n",
    "    fig, ax1 = plt.subplots()\n",
    "\n",
    "    color = 'tab:red'\n",
    "    ax1.set_xlabel('Position')\n",
    "    ax1.set_ylabel('-log10(pval)', color=color)\n",
    "    ax1.scatter(pos, data1, color=color,  label='-log10(pvalue)')\n",
    "    ax1.tick_params(axis='y', labelcolor=color)\n",
    "    plt.legend(loc=2)\n",
    "    ax2 = ax1.twinx()  # instantiate a second axes that shares the same x-axis\n",
    "\n",
    "    color = 'tab:blue'\n",
    "    ax2.set_ylabel('PPA', color=color)  # we already handled the x-label with ax1\n",
    "    ax2.scatter(pos, data2, color=color, label='fine-mapping PPA')\n",
    "    ax2.tick_params(axis='y', labelcolor=color)\n",
    "    plt.legend(loc=0)\n",
    "    maxPPA = max(data2)+0.01\n",
    "\n",
    "    midPos = int(sub.loc[sub['PPA'] == max(data2),'pos_x'])\n",
    "    ax2.set_ylim(-0.001, maxPPA)\n",
    "    ax2.set_xlim(midPos-5e5,midPos+5e5)\n",
    "    fig.tight_layout()  # otherwise \n",
    "    plt.show()"
   ]
  },
  {
   "cell_type": "code",
   "execution_count": 59,
   "metadata": {},
   "outputs": [
    {
     "data": {
      "image/png": "[encoded data removed]",
      "text/plain": [
       "<Figure size 432x288 with 2 Axes>"
      ]
     },
     "metadata": {
      "needs_background": "light"
     },
     "output_type": "display_data"
    }
   ],
   "source": [
    "plotRegion(sub)"
   ]
  }
 ],
 "metadata": {
  "kernelspec": {
   "display_name": "Python 3",
   "language": "python",
   "name": "python3"
  },
  "language_info": {
   "codemirror_mode": {
    "name": "ipython",
    "version": 3
   },
   "file_extension": ".py",
   "mimetype": "text/x-python",
   "name": "python",
   "nbconvert_exporter": "python",
   "pygments_lexer": "ipython3",
   "version": "3.7.0"
  }
 },
 "nbformat": 4,
 "nbformat_minor": 2
}
